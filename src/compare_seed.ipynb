{
 "cells": [
  {
   "cell_type": "code",
   "execution_count": 1,
   "metadata": {},
   "outputs": [],
   "source": [
    "import numpy as np\n",
    "import pandas as pd\n",
    "import os,sys"
   ]
  },
  {
   "cell_type": "markdown",
   "metadata": {},
   "source": [
    "# Gemma2b"
   ]
  },
  {
   "cell_type": "code",
   "execution_count": 2,
   "metadata": {},
   "outputs": [],
   "source": [
    
   ]
  },
  {
   "cell_type": "code",
   "execution_count": 3,
   "metadata": {},
   "outputs": [],
   "source": [
    "def get_best_randomseed(ROOT,file_name,ts):\n",
    "    all_metrics = []\n",
    "    random_seeds = [0,1,2]\n",
    "    for rs in [0,1,2]:\n",
    "        file_dir = os.path.join(ROOT,f'ts_{ts}_rs_{rs}')\n",
    "        metrics_file = os.path.join(file_dir,file_name)\n",
    "        metrics_df = pd.read_csv(metrics_file)\n",
    "        all_metrics.append(metrics_df)\n",
    "        \n",
    "    best_rs = None\n",
    "    best_f1_score = -1\n",
    "\n",
    "    for i, metrics_df in enumerate(all_metrics):\n",
    "        f1_score = metrics_df['F1_pos'].mean()  # Assuming the F1 score is a column in your CSV files\n",
    "        print(f\"Random seed {random_seeds[i]}: F1 Score = {f1_score}\")\n",
    "        \n",
    "        if f1_score > best_f1_score:\n",
    "            best_f1_score = f1_score\n",
    "            best_rs = random_seeds[i]\n",
    "\n",
    "    print(f\"Best random seed: {best_rs} with F1 Score = {best_f1_score}\")"
   ]
  },
  {
   "cell_type": "code",
   "execution_count": 4,
   "metadata": {},
   "outputs": [
    {
     "name": "stdout",
     "output_type": "stream",
     "text": [
      "Random seed 0: F1 Score = 0.2624338624338624\n",
      "Random seed 1: F1 Score = 0.23043478260869565\n",
      "Random seed 2: F1 Score = 0.34116541353383456\n",
      "Best random seed: 2 with F1 Score = 0.34116541353383456\n"
     ]
    }
   ],
   "source": [
    "get_best_randomseed(Gemma2b_ROOT,\n",
    "                       'feature_metrics_pred_df_val_imp_gemma-2b-it-bnb-4bit_epoch10_lr0.0002.csv.csv',\n",
    "                       0.2)"
   ]
  },
  {
   "cell_type": "code",
   "execution_count": 19,
   "metadata": {},
   "outputs": [
    {
     "name": "stdout",
     "output_type": "stream",
     "text": [
      "Random seed 0: F1 Score = 0.5790193138724755\n",
      "Random seed 1: F1 Score = 0.7196351267779839\n",
      "Random seed 2: F1 Score = 0.7311759381171823\n",
      "Best random seed: 2 with F1 Score = 0.7311759381171823\n"
     ]
    }
   ],
   "source": [
    "get_best_randomseed(Gemma2b_ROOT,\n",
    "                       'feature_metrics_pred_df_val_imp_gemma-2b-it-bnb-4bit_epoch10_lr0.0002.csv.csv',\n",
    "                       0.4)"
   ]
  },
  {
   "cell_type": "code",
   "execution_count": 20,
   "metadata": {},
   "outputs": [
    {
     "name": "stdout",
     "output_type": "stream",
     "text": [
      "Random seed 0: F1 Score = 0.836223640399556\n",
      "Random seed 1: F1 Score = 0.7912464985994397\n",
      "Random seed 2: F1 Score = 0.7278745644599304\n",
      "Best random seed: 0 with F1 Score = 0.836223640399556\n"
     ]
    }
   ],
   "source": [
    "get_best_randomseed(Gemma2b_ROOT,\n",
    "                       'feature_metrics_pred_df_val_imp_gemma-2b-it-bnb-4bit_epoch10_lr0.0002.csv.csv',0.6)"
   ]
  },
  {
   "cell_type": "code",
   "execution_count": 21,
   "metadata": {},
   "outputs": [
    {
     "name": "stdout",
     "output_type": "stream",
     "text": [
      "Random seed 0: F1 Score = 0.8826593137254902\n",
      "Random seed 1: F1 Score = 0.7312746151092016\n",
      "Random seed 2: F1 Score = 0.8205753353973169\n",
      "Best random seed: 0 with F1 Score = 0.8826593137254902\n"
     ]
    }
   ],
   "source": [
    "get_best_randomseed(Gemma2b_ROOT,\n",
    "                       'feature_metrics_pred_df_val_imp_gemma-2b-it-bnb-4bit_epoch10_lr0.0002.csv.csv',0.8)"
   ]
  },
  {
   "cell_type": "code",
   "execution_count": 22,
   "metadata": {},
   "outputs": [
    {
     "name": "stdout",
     "output_type": "stream",
     "text": [
      "Random seed 0: F1 Score = 0.8408138994778486\n",
      "Random seed 1: F1 Score = 0.8262338020402535\n",
      "Random seed 2: F1 Score = 0.8186857085788475\n",
      "Best random seed: 0 with F1 Score = 0.8408138994778486\n"
     ]
    }
   ],
   "source": [
    "get_best_randomseed(Gemma2b_ROOT,\n",
    "                       'feature_metrics_pred_df_val_imp_gemma-2b-it-bnb-4bit_epoch10_lr0.0002.csv.csv',1.0)"
   ]
  },
  {
   "cell_type": "markdown",
   "metadata": {},
   "source": [
    "# Gemma 7B"
   ]
  },
  {
   "cell_type": "code",
   "execution_count": 23,
   "metadata": {},
   "outputs": [],
   "source": [
    
   ]
  },
  {
   "cell_type": "code",
   "execution_count": 24,
   "metadata": {},
   "outputs": [
    {
     "name": "stdout",
     "output_type": "stream",
     "text": [
      "Random seed 0: F1 Score = 0.5669934640522876\n",
      "Random seed 1: F1 Score = 0.6656957109084769\n",
      "Random seed 2: F1 Score = 0.7686133437040878\n",
      "Best random seed: 2 with F1 Score = 0.7686133437040878\n"
     ]
    }
   ],
   "source": [
    "get_best_randomseed(Gemma7b_ROOT,\n",
    "                       'feature_metrics_pred_df_val_imp_gemma-7b-it-bnb-4bit_epoch10_lr0.0002.csv.csv',0.2)"
   ]
  },
  {
   "cell_type": "code",
   "execution_count": 25,
   "metadata": {},
   "outputs": [
    {
     "name": "stdout",
     "output_type": "stream",
     "text": [
      "Random seed 0: F1 Score = 0.7602800103707545\n",
      "Random seed 1: F1 Score = 0.7595671353735869\n",
      "Random seed 2: F1 Score = 0.8289810547875063\n",
      "Best random seed: 2 with F1 Score = 0.8289810547875063\n"
     ]
    }
   ],
   "source": [
    "get_best_randomseed(Gemma7b_ROOT,\n",
    "                       'feature_metrics_pred_df_val_imp_gemma-7b-it-bnb-4bit_epoch10_lr0.0002.csv.csv',0.4)"
   ]
  },
  {
   "cell_type": "code",
   "execution_count": 27,
   "metadata": {},
   "outputs": [
    {
     "name": "stdout",
     "output_type": "stream",
     "text": [
      "Random seed 0: F1 Score = 0.7997420020639835\n",
      "Random seed 1: F1 Score = 0.8186857085788475\n",
      "Random seed 2: F1 Score = 0.9063327674023769\n",
      "Best random seed: 2 with F1 Score = 0.9063327674023769\n"
     ]
    }
   ],
   "source": [
    "get_best_randomseed(Gemma7b_ROOT,\n",
    "                       'feature_metrics_pred_df_val_imp_gemma-7b-it-bnb-4bit_epoch10_lr0.0002.csv.csv',0.6)"
   ]
  },
  {
   "cell_type": "code",
   "execution_count": 28,
   "metadata": {},
   "outputs": [
    {
     "name": "stdout",
     "output_type": "stream",
     "text": [
      "Random seed 0: F1 Score = 0.8512149483449293\n",
      "Random seed 1: F1 Score = 0.7060620300751879\n",
      "Random seed 2: F1 Score = 0.8963731325863679\n",
      "Best random seed: 2 with F1 Score = 0.8963731325863679\n"
     ]
    }
   ],
   "source": [
    "get_best_randomseed(Gemma7b_ROOT,\n",
    "                       'feature_metrics_pred_df_val_imp_gemma-7b-it-bnb-4bit_epoch10_lr0.0002.csv.csv',0.8)"
   ]
  },
  {
   "cell_type": "code",
   "execution_count": 29,
   "metadata": {},
   "outputs": [
    {
     "name": "stdout",
     "output_type": "stream",
     "text": [
      "Random seed 0: F1 Score = 0.8652510683760684\n",
      "Random seed 1: F1 Score = 0.8705123165618448\n",
      "Random seed 2: F1 Score = 0.8605431621506596\n",
      "Best random seed: 1 with F1 Score = 0.8705123165618448\n"
     ]
    }
   ],
   "source": [
    "get_best_randomseed(Gemma7b_ROOT,\n",
    "                       'feature_metrics_pred_df_val_imp_gemma-7b-it-bnb-4bit_epoch10_lr0.0002.csv.csv',1.0)"
   ]
  },
  {
   "cell_type": "markdown",
   "metadata": {},
   "source": [
    "# Mistral"
   ]
  },
  {
   "cell_type": "code",
   "execution_count": 5,
   "metadata": {},
   "outputs": [],
   "source": [
    
   ]
  },
  {
   "cell_type": "code",
   "execution_count": 6,
   "metadata": {},
   "outputs": [
    {
     "name": "stdout",
     "output_type": "stream",
     "text": [
      "Random seed 0: F1 Score = 0.5190052638254693\n",
      "Random seed 1: F1 Score = 0.3685406698564593\n",
      "Random seed 2: F1 Score = 0.8451585402744547\n",
      "Best random seed: 2 with F1 Score = 0.8451585402744547\n"
     ]
    }
   ],
   "source": [
    "get_best_randomseed(mistral_ROOT,\n",
    "                       'feature_metrics_pred_df_val_imp_mistral-7b-instruct-v0.2-bnb-4bit_epoch10_lr0.0002.csv.csv',0.2)"
   ]
  },
  {
   "cell_type": "code",
   "execution_count": 7,
   "metadata": {},
   "outputs": [
    {
     "name": "stdout",
     "output_type": "stream",
     "text": [
      "Random seed 0: F1 Score = 0.8363888888888888\n",
      "Random seed 1: F1 Score = 0.8102779573367809\n",
      "Random seed 2: F1 Score = 0.8246200209643605\n",
      "Best random seed: 0 with F1 Score = 0.8363888888888888\n"
     ]
    }
   ],
   "source": [
    "get_best_randomseed(mistral_ROOT,\n",
    "                       'feature_metrics_pred_df_val_imp_mistral-7b-instruct-v0.2-bnb-4bit_epoch10_lr0.0002.csv.csv',0.4)"
   ]
  },
  {
   "cell_type": "code",
   "execution_count": 8,
   "metadata": {},
   "outputs": [
    {
     "name": "stdout",
     "output_type": "stream",
     "text": [
      "Random seed 0: F1 Score = 0.214403563768355\n",
      "Random seed 1: F1 Score = 0.6634295227524971\n",
      "Random seed 2: F1 Score = 0.8125\n",
      "Best random seed: 2 with F1 Score = 0.8125\n"
     ]
    }
   ],
   "source": [
    "get_best_randomseed(mistral_ROOT,\n",
    "                       'feature_metrics_pred_df_val_imp_mistral-7b-instruct-v0.2-bnb-4bit_epoch10_lr0.0002.csv.csv',0.6)"
   ]
  },
  {
   "cell_type": "code",
   "execution_count": 9,
   "metadata": {},
   "outputs": [
    {
     "name": "stdout",
     "output_type": "stream",
     "text": [
      "Random seed 0: F1 Score = 0.8422801751376726\n",
      "Random seed 1: F1 Score = 0.504369918699187\n",
      "Random seed 2: F1 Score = 0.6075056325657769\n",
      "Best random seed: 0 with F1 Score = 0.8422801751376726\n"
     ]
    }
   ],
   "source": [
    "get_best_randomseed(mistral_ROOT,\n",
    "                       'feature_metrics_pred_df_val_imp_mistral-7b-instruct-v0.2-bnb-4bit_epoch10_lr0.0002.csv.csv',0.8)"
   ]
  },
  {
   "cell_type": "code",
   "execution_count": 10,
   "metadata": {},
   "outputs": [
    {
     "name": "stdout",
     "output_type": "stream",
     "text": [
      "Random seed 0: F1 Score = 0.8406746031746032\n",
      "Random seed 1: F1 Score = 0.5803571428571429\n",
      "Random seed 2: F1 Score = 0.8106884057971013\n",
      "Best random seed: 0 with F1 Score = 0.8406746031746032\n"
     ]
    }
   ],
   "source": [
    "get_best_randomseed(mistral_ROOT,\n",
    "                       'feature_metrics_pred_df_val_imp_mistral-7b-instruct-v0.2-bnb-4bit_epoch10_lr0.0002.csv.csv',1.0)"
   ]
  }
 ],
 "metadata": {
  "kernelspec": {
   "display_name": "torchsrh",
   "language": "python",
   "name": "torchsrh"
  },
  "language_info": {
   "codemirror_mode": {
    "name": "ipython",
    "version": 3
   },
   "file_extension": ".py",
   "mimetype": "text/x-python",
   "name": "python",
   "nbconvert_exporter": "python",
   "pygments_lexer": "ipython3",
   "version": "3.11.7"
  }
 },
 "nbformat": 4,
 "nbformat_minor": 2
}
