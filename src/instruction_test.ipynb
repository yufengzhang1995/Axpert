{
 "cells": [
  {
   "cell_type": "code",
   "execution_count": 1,
   "id": "331eac27-6db8-49ba-a202-5a8e0b522a4c",
   "metadata": {},
   "outputs": [],
   "source": [
    "import pandas as pd\n",
    "import numpy as np\n",
    "import os"
   ]
  },
  {
   "cell_type": "code",
   "execution_count": 2,
   "id": "01e40f16-5dba-4a03-95e6-9867885fbc97",
   "metadata": {},
   "outputs": [],
   "source": [
    "import warnings\n",
    "warnings.filterwarnings(\"ignore\")"
   ]
  },
  {
   "cell_type": "code",
   "execution_count": 3,
   "id": "05b46501-5043-486c-96c9-f2637f8a7583",
   "metadata": {},
   "outputs": [],
   "source": [
    
   ]
  },
  {
   "cell_type": "code",
   "execution_count": 4,
   "id": "85bd6f1c-a44a-4bea-98b7-8d8a8476b42b",
   "metadata": {},
   "outputs": [],
   "source": [
    "def pre_process_narrative(df):\n",
    "    imp = df['Narrative']\n",
    "    imp = imp.str.strip()\n",
    "    imp = imp.replace('\\n',' ', regex=True).replace('\\s+', ' ', regex=True).str.strip()\n",
    "    df['Narrative'] = imp\n",
    "    return df"
   ]
  },
  {
   "cell_type": "code",
   "execution_count": 5,
   "id": "e72ee238-9a0d-4bee-8d8e-6df369904679",
   "metadata": {},
   "outputs": [],
   "source": [
    "def generate_input(input):\n",
    "    prompt = f\"\"\"Q: This is a pediatric radiology report: {input}\"\"\"\n",
    "    prompt += '(1) Does the child have necrotizing enterocolitis? A. Yes. B. No. '\n",
    "    prompt += '(2) Does the child have pneumatosis? A. Yes. B. No. '\n",
    "    prompt += '(3) Does the child have portal venous gas? A. Yes. B. No. '\n",
    "    prompt += '(4) Does the child have free air? A. Yes. B. No. '\n",
    "    return prompt\n",
    "\n",
    "\n",
    "def generate_instruction():\n",
    "    return 'Please answer the four numbered questions. Write answer using A/B in between <answer></answer>.'\n",
    "    \n",
    "def get_ans(x):\n",
    "    if x == 1:\n",
    "        return 'A. Yes'\n",
    "    else:\n",
    "        return 'B. No'\n",
    "def generate_output(jk_nec_features,jk_pneumatosis,jk_pvg,jk_freeair):\n",
    "    temp = np.array([jk_nec_features,jk_pneumatosis,jk_pvg,jk_freeair])\n",
    "    results = [get_ans(i) for i in temp]     \n",
    "    answer = '<answer>\\n'\n",
    "    for result in results:\n",
    "        answer += f' {result}\\n'  \n",
    "    answer += '</answer>'\n",
    "    return answer\n",
    "\n",
    "def generate_prompt(data_point):\n",
    "    \"\"\"Gen input text based on a \n",
    "        prompt, \n",
    "        task instruction, \n",
    "        (context info.), and answer\n",
    "\n",
    "    :param data_point: dict: Data point\n",
    "    :return: dict: tokenized prompt\n",
    "    \"\"\"\n",
    "\n",
    "    # Generate prompt\n",
    "    prefix_text = 'Below is an instruction that describes a task. Write a response that ' \\\n",
    "               'appropriately completes the request.\\n\\n'\n",
    "    \n",
    "    # Samples with additional context into.\n",
    "    if data_point['input']:\n",
    "        text = f\"\"\"<start_of_turn>user {prefix_text} {data_point[\"instruction\"]} here are the inputs {data_point[\"input\"]} <end_of_turn>\\n<start_of_turn>model{data_point[\"output\"]} <end_of_turn>\"\"\"\n",
    "    # Without\n",
    "    else:\n",
    "        text = f\"\"\"<start_of_turn>user {prefix_text} {data_point[\"instruction\"]} <end_of_turn>\\n<start_of_turn>model{data_point[\"output\"]} <end_of_turn>\"\"\"\n",
    "    return text\n",
    "\n",
    "\n",
    "def load_training_data(TRAIN_SET):\n",
    "    raw_df = pd.read_csv(TRAIN_SET)\n",
    "    df = raw_df[['Narrative', 'jk_nec_features', 'jk_pneumatosis', 'jk_pvg','jk_freeair', 'notes']]\n",
    "    df = pre_process_narrative(df)\n",
    "    df['input'] =  df['Narrative'].apply(lambda x: generate_input(x))  \n",
    "    df['instruction'] =  generate_instruction()\n",
    "    df['output'] = df.apply(lambda row: generate_output(row['jk_nec_features'], row['jk_pneumatosis'], row['jk_pvg'], row['jk_freeair']), axis=1)\n",
    "    results = df[['input','instruction','output']]\n",
    "    return results"
   ]
  },
  {
   "cell_type": "code",
   "execution_count": 6,
   "id": "723df397-42d7-44b7-8d17-7ce87a9b9991",
   "metadata": {},
   "outputs": [],
   "source": [
    "results = load_training_data(TRAIN_SET)"
   ]
  },
  {
   "cell_type": "code",
   "execution_count": 7,
   "id": "d727245d-e80a-4071-a7c0-555a505d8869",
   "metadata": {},
   "outputs": [
    {
     "data": {
      "text/plain": [
       "Index(['input', 'instruction', 'output'], dtype='object')"
      ]
     },
     "execution_count": 7,
     "metadata": {},
     "output_type": "execute_result"
    }
   ],
   "source": [
    "results.columns"
   ]
  },
  {
   "cell_type": "code",
   "execution_count": 8,
   "id": "2720f785-b76d-43e0-ab3e-b03d3a753488",
   "metadata": {},
   "outputs": [],
   "source": [
    "def generate_prompt(data_point):\n",
    "    \"\"\"Gen. input text based on a prompt, task instruction, (context info.), and answer\n",
    "\n",
    "    :param data_point: dict: Data point\n",
    "    :return: dict: tokenzed prompt\n",
    "    \"\"\"\n",
    "    # Generate prompt\n",
    "    prefix_text = 'Below is an instruction that describes a task. Write a response that ' \\\n",
    "               'appropriately completes the request.\\n\\n'\n",
    "\n",
    "    if data_point['input']:\n",
    "        text = f\"\"\"<start_of_turn>user {prefix_text} {data_point[\"instruction\"]} here are the inputs {data_point[\"input\"]} <end_of_turn>\\n<start_of_turn>model{data_point[\"output\"]} <end_of_turn>\"\"\"\n",
    "    else:\n",
    "        text = f\"\"\"<start_of_turn>user {prefix_text} {data_point[\"instruction\"]} <end_of_turn>\\n<start_of_turn>model{data_point[\"output\"]} <end_of_turn>\"\"\"\n",
    "    return text\n",
    "\n",
    "results['prompt'] = results.apply(lambda row: generate_prompt(row), axis=1)"
   ]
  },
  {
   "cell_type": "code",
   "execution_count": 10,
   "id": "d7541bfc-e021-432a-a17c-8c8dc99bbfc2",
   "metadata": {},
   "outputs": [],
   "source": [
    "from datasets import Dataset"
   ]
  },
  {
   "cell_type": "code",
   "execution_count": 12,
   "id": "dc63b74e-d2b8-42b3-b4cb-725132cde430",
   "metadata": {},
   "outputs": [],
   "source": [
    "train_dataset = Dataset.from_pandas(results)"
   ]
  },
  {
   "cell_type": "code",
   "execution_count": 13,
   "id": "b0f6e0ac-e3f3-40a5-9707-25a7b5d297d5",
   "metadata": {},
   "outputs": [
    {
     "data": {
      "text/plain": [
       "Dataset({\n",
       "    features: ['input', 'instruction', 'output', 'prompt'],\n",
       "    num_rows: 300\n",
       "})"
      ]
     },
     "execution_count": 13,
     "metadata": {},
     "output_type": "execute_result"
    }
   ],
   "source": [
    "train_dataset"
   ]
  },
  {
   "cell_type": "markdown",
   "id": "4d2a7fa6-2f60-452e-8df6-28427e0c6735",
   "metadata": {},
   "source": [
    "## build dataset"
   ]
  },
  {
   "cell_type": "code",
   "execution_count": 34,
   "id": "d2a9253f-f28a-4e16-8351-cc0ba7a5b69f",
   "metadata": {},
   "outputs": [
    {
     "name": "stdout",
     "output_type": "stream",
     "text": [
      "{'input': 'Q: This is a pediatric radiology report: XR ABDOMEN PORTABLE 1 VIEW, 7/25/2020 at 0511 hours INDICATION: PICC Surveillance COMPARISON: Abdominal radiograph 7/18/2020. Chest radiograph 7/20/2020. IMPRESSION: 1. Lines and tubes: Unchanged gastric tube in the stomach and feeding tube with the tip in the ligament of Treitz. Left lower extremity PICC projects over the L1 vertebral body. 2. Nonobstructive bowel gas pattern. No evidence of pneumatosis. 3. Small left pleural effusion. Bibasilar coarse lung opacities.(1) Does the child have necrotizing enterocolitis? A. Yes. B. No. (2) Does the child have pneumatosis? A. Yes. B. No. (3) Does the child have portal venous gas? A. Yes. B. No. (4) Does the child have free air? A. Yes. B. No. ', 'output': '<answer>\\n B. No\\n B. No\\n B. No\\n B. No\\n</answer>', 'instruction': 'Please answer the four numbered questions. Write answer using A/B in between <answer></answer>.', 'prompt': '<start_of_turn>user Below is an instruction that describes a task. Write a response that appropriately completes the request.\\n\\n Please answer the four numbered questions. Write answer using A/B in between <answer></answer>. here are the inputs Q: This is a pediatric radiology report: XR ABDOMEN PORTABLE 1 VIEW, 7/25/2020 at 0511 hours INDICATION: PICC Surveillance COMPARISON: Abdominal radiograph 7/18/2020. Chest radiograph 7/20/2020. IMPRESSION: 1. Lines and tubes: Unchanged gastric tube in the stomach and feeding tube with the tip in the ligament of Treitz. Left lower extremity PICC projects over the L1 vertebral body. 2. Nonobstructive bowel gas pattern. No evidence of pneumatosis. 3. Small left pleural effusion. Bibasilar coarse lung opacities.(1) Does the child have necrotizing enterocolitis? A. Yes. B. No. (2) Does the child have pneumatosis? A. Yes. B. No. (3) Does the child have portal venous gas? A. Yes. B. No. (4) Does the child have free air? A. Yes. B. No.  <end_of_turn>\\n<start_of_turn>model<answer>\\n B. No\\n B. No\\n B. No\\n B. No\\n</answer> <end_of_turn>'}\n"
     ]
    }
   ],
   "source": [
    "import torch\n",
    "from torch.utils.data import Dataset\n",
    "\n",
    "class AXRDataset(Dataset):\n",
    "    def __init__(self, dataframe):\n",
    "        self.data = dataframe\n",
    "    \n",
    "    def __len__(self):\n",
    "        return len(self.data)\n",
    "    \n",
    "    def __getitem__(self, idx):\n",
    "        input_text = self.data.iloc[idx]['input']\n",
    "        output_text = self.data.iloc[idx]['output']\n",
    "        instruction_text = self.data.iloc[idx]['instruction']\n",
    "        prompt_text = self.data.iloc[idx]['prompt']\n",
    "        \n",
    "        return {'input': input_text, 'output': output_text, 'instruction': instruction_text, 'prompt': prompt_text}\n",
    "\n",
    "AXR_dataset = AXRDataset(results)\n",
    "\n",
    "# Accessing a sample from the dataset\n",
    "sample = AXR_dataset[0]\n",
    "print(sample)\n"
   ]
  },
  {
   "cell_type": "code",
   "execution_count": 37,
   "id": "a406705c-fb43-44f6-bed5-6c22b8a9828d",
   "metadata": {},
   "outputs": [
    {
     "data": {
      "text/plain": [
       "'<start_of_turn>user Below is an instruction that describes a task. Write a response that appropriately completes the request.\\n\\n Please answer the four numbered questions. Write answer using A/B in between <answer></answer>. here are the inputs Q: This is a pediatric radiology report: XR ABDOMEN PORTABLE 1 VIEW, 7/25/2020 at 0511 hours INDICATION: PICC Surveillance COMPARISON: Abdominal radiograph 7/18/2020. Chest radiograph 7/20/2020. IMPRESSION: 1. Lines and tubes: Unchanged gastric tube in the stomach and feeding tube with the tip in the ligament of Treitz. Left lower extremity PICC projects over the L1 vertebral body. 2. Nonobstructive bowel gas pattern. No evidence of pneumatosis. 3. Small left pleural effusion. Bibasilar coarse lung opacities.(1) Does the child have necrotizing enterocolitis? A. Yes. B. No. (2) Does the child have pneumatosis? A. Yes. B. No. (3) Does the child have portal venous gas? A. Yes. B. No. (4) Does the child have free air? A. Yes. B. No.  <end_of_turn>\\n<start_of_turn>model<answer>\\n B. No\\n B. No\\n B. No\\n B. No\\n</answer> <end_of_turn>'"
      ]
     },
     "execution_count": 37,
     "metadata": {},
     "output_type": "execute_result"
    }
   ],
   "source": [
    "sample['prompt']"
   ]
  },
  {
   "cell_type": "code",
   "execution_count": null,
   "id": "89e1ac18-d5ba-408e-b483-2a71c0ecd875",
   "metadata": {},
   "outputs": [],
   "source": [
    "alpaca_prompt = \"\"\"\n",
    "{}\n",
    "\n",
    "\n",
    "### Instruction:\n",
    "{}\n",
    "\n",
    "### Input:\n",
    "{}\n",
    "\n",
    "### Response:\n",
    "{}\"\"\"\n",
    "\n",
    "EOS_TOKEN = tokenizer.eos_token # Must add EOS_TOKEN\n",
    "def formatting_prompts_func(examples):\n",
    "    instructions = examples[\"instruction\"]\n",
    "    inputs       = examples[\"input\"]\n",
    "    outputs      = examples[\"output\"]\n",
    "    texts = []\n",
    "    for instruction, input, output in zip(instructions, inputs, outputs):\n",
    "        # Must add EOS_TOKEN, otherwise your generation will go on forever!\n",
    "        text = alpaca_prompt.format(instruction, input, output) + EOS_TOKEN\n",
    "        texts.append(text)\n",
    "    return { \"text\" : texts, }\n",
    "pass\n",
    "\n",
    "from datasets import load_dataset\n",
    "dataset = load_dataset(\"yahma/alpaca-cleaned\", split = \"train\")\n",
    "dataset = dataset.map(formatting_prompts_func, batched = True,)"
   ]
  }
 ],
 "metadata": {
  "kernelspec": {
   "display_name": "Python 3 (ipykernel)",
   "language": "python",
   "name": "python3"
  },
  "language_info": {
   "codemirror_mode": {
    "name": "ipython",
    "version": 3
   },
   "file_extension": ".py",
   "mimetype": "text/x-python",
   "name": "python",
   "nbconvert_exporter": "python",
   "pygments_lexer": "ipython3",
   "version": "3.10.14"
  }
 },
 "nbformat": 4,
 "nbformat_minor": 5
}
